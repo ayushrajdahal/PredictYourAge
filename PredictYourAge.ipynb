{
  "nbformat": 4,
  "nbformat_minor": 0,
  "metadata": {
    "colab": {
      "provenance": []
    },
    "kernelspec": {
      "name": "python3",
      "display_name": "Python 3"
    },
    "language_info": {
      "name": "python"
    }
  },
  "cells": [
    {
      "cell_type": "code",
      "execution_count": 3,
      "metadata": {
        "id": "xB_BDX_uvFEL"
      },
      "outputs": [],
      "source": [
        "import tensorflow as tf\n",
        "import numpy as np"
      ]
    },
    {
      "cell_type": "code",
      "source": [
        "train_in = np.random.randint(1,100,(100000,1))\n",
        "train_out = train_in.flatten()\n",
        "test_in = np.random.randint(1,100,(100000,1))\n",
        "test_out = test_in.flatten()"
      ],
      "metadata": {
        "id": "NesSopgfvKsw"
      },
      "execution_count": 4,
      "outputs": []
    },
    {
      "cell_type": "code",
      "source": [
        "model = tf.keras.models.Sequential([tf.keras.layers.Flatten(input_shape=(1,1)),\n",
        "                                    tf.keras.layers.Dense(1024, activation='sigmoid'),\n",
        "                                    tf.keras.layers.Dense(512, activation='sigmoid'),\n",
        "                                    tf.keras.layers.Dense(256, activation='sigmoid'),\n",
        "                                    tf.keras.layers.Dense(128, activation='sigmoid'),\n",
        "                                    tf.keras.layers.Dense(101, activation=tf.nn.softmax)])"
      ],
      "metadata": {
        "id": "pHXhT51Nvqa4"
      },
      "execution_count": 5,
      "outputs": []
    },
    {
      "cell_type": "code",
      "source": [
        "model.compile(optimizer = tf.optimizers.Adam(),\n",
        "              loss = 'sparse_categorical_crossentropy',\n",
        "              metrics = ['accuracy'])"
      ],
      "metadata": {
        "id": "u8uHqAC_w7Dv"
      },
      "execution_count": 6,
      "outputs": []
    },
    {
      "cell_type": "code",
      "source": [
        "model.fit(train_in, train_out, epochs = 10)"
      ],
      "metadata": {
        "colab": {
          "base_uri": "https://localhost:8080/"
        },
        "id": "vsBESBa7xX1t",
        "outputId": "de2a2738-91b4-41d6-c567-234bdbac0dc0"
      },
      "execution_count": 7,
      "outputs": [
        {
          "output_type": "stream",
          "name": "stdout",
          "text": [
            "Epoch 1/10\n",
            "3125/3125 [==============================] - 45s 14ms/step - loss: 2.3104 - accuracy: 0.3113\n",
            "Epoch 2/10\n",
            "3125/3125 [==============================] - 44s 14ms/step - loss: 1.1180 - accuracy: 0.6671\n",
            "Epoch 3/10\n",
            "3125/3125 [==============================] - 42s 14ms/step - loss: 0.7349 - accuracy: 0.8024\n",
            "Epoch 4/10\n",
            "3125/3125 [==============================] - 44s 14ms/step - loss: 0.5668 - accuracy: 0.8602\n",
            "Epoch 5/10\n",
            "3125/3125 [==============================] - 43s 14ms/step - loss: 0.5190 - accuracy: 0.8631\n",
            "Epoch 6/10\n",
            "3125/3125 [==============================] - 41s 13ms/step - loss: 0.4396 - accuracy: 0.8970\n",
            "Epoch 7/10\n",
            "3125/3125 [==============================] - 43s 14ms/step - loss: 0.4022 - accuracy: 0.9046\n",
            "Epoch 8/10\n",
            "3125/3125 [==============================] - 42s 14ms/step - loss: 0.3203 - accuracy: 0.9202\n",
            "Epoch 9/10\n",
            "3125/3125 [==============================] - 43s 14ms/step - loss: 0.3144 - accuracy: 0.9251\n",
            "Epoch 10/10\n",
            "3125/3125 [==============================] - 43s 14ms/step - loss: 0.3674 - accuracy: 0.9143\n"
          ]
        },
        {
          "output_type": "execute_result",
          "data": {
            "text/plain": [
              "<keras.callbacks.History at 0x7f57ce0a9a50>"
            ]
          },
          "metadata": {},
          "execution_count": 7
        }
      ]
    },
    {
      "cell_type": "code",
      "source": [
        "print(model.evaluate(test_in, test_out))"
      ],
      "metadata": {
        "colab": {
          "base_uri": "https://localhost:8080/"
        },
        "id": "y065ukhAxa9f",
        "outputId": "742c7069-9c52-40bd-80e2-916141f19fb6"
      },
      "execution_count": 16,
      "outputs": [
        {
          "output_type": "stream",
          "name": "stdout",
          "text": [
            "3125/3125 [==============================] - 11s 4ms/step - loss: 0.1467 - accuracy: 1.0000\n",
            "[0.14668212831020355, 1.0]\n"
          ]
        }
      ]
    },
    {
      "cell_type": "code",
      "source": [
        "yourAge = 42\n",
        "x = model.predict([yourAge])\n",
        "print(f'You are {np.argmax(x[0])} years old')"
      ],
      "metadata": {
        "colab": {
          "base_uri": "https://localhost:8080/"
        },
        "id": "4IDPB4TixkQi",
        "outputId": "7606e0fa-8c49-4c54-a78b-4b5d5c9fadd8"
      },
      "execution_count": 20,
      "outputs": [
        {
          "output_type": "stream",
          "name": "stdout",
          "text": [
            "You are 42 years old\n"
          ]
        }
      ]
    }
  ]
}